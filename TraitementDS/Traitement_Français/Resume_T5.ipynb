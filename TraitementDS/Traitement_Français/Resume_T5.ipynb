{
 "cells": [
  {
   "cell_type": "code",
   "execution_count": 2,
   "id": "58a372dd-0e0b-47ad-89ef-d6a5fcdc60d5",
   "metadata": {},
   "outputs": [
    {
     "name": "stderr",
     "output_type": "stream",
     "text": [
      "Device set to use cpu\n"
     ]
    },
    {
     "name": "stdout",
     "output_type": "stream",
     "text": [
      "Les résumés ont été enregistrés dans 'cluster_summaries_t5.json'.\n"
     ]
    }
   ],
   "source": [
    "import os\n",
    "import json\n",
    "from transformers import pipeline\n",
    "\n",
    "# Désactiver CUDA si le pilote est trop ancien\n",
    "os.environ[\"CUDA_VISIBLE_DEVICES\"] = \"\"  # Forcer l'utilisation du CPU\n",
    "\n",
    "# Charger les données clusterisées\n",
    "def load_clustered_data(file_path):\n",
    "    with open(file_path, 'r', encoding='utf-8') as file:\n",
    "        return json.load(file)\n",
    "\n",
    "# Charger un modèle de génération de résumé (T5)\n",
    "def load_summarizer():\n",
    "    try:\n",
    "        return pipeline(\"summarization\", model=\"t5-small\")  # Utiliser le CPU\n",
    "    except Exception as e:\n",
    "        print(f\"Erreur lors du chargement du modèle: {e}\")\n",
    "        return None\n",
    "\n",
    "# Fonction pour générer un résumé avec T5\n",
    "def generate_summary_t5(text, max_length=130, min_length=30):\n",
    "    try:\n",
    "        summary = summarizer(text, max_length=max_length, min_length=min_length, do_sample=False)\n",
    "        return summary[0]['summary_text']\n",
    "    except Exception as e:\n",
    "        print(f\"Erreur lors de la génération du résumé : {e}\")\n",
    "        return \"Résumé non disponible\"\n",
    "\n",
    "# Chemin vers le fichier clusterisé\n",
    "clustered_file_path = 'clustered_articles2.json'\n",
    "clustered_data = load_clustered_data(clustered_file_path)\n",
    "\n",
    "# Regrouper les articles par cluster\n",
    "clusters = {}\n",
    "for article in clustered_data:\n",
    "    cluster_id = article['cluster']\n",
    "    if cluster_id not in clusters:\n",
    "        clusters[cluster_id] = []\n",
    "    clusters[cluster_id].append(article['content'])\n",
    "\n",
    "# Charger le modèle T5\n",
    "summarizer = load_summarizer()\n",
    "if summarizer is None:\n",
    "    print(\"Impossible de charger le modèle. Vérifiez les erreurs ci-dessus.\")\n",
    "    exit(1)\n",
    "\n",
    "# Générer un résumé pour chaque cluster\n",
    "cluster_summaries = {}\n",
    "for cluster_id, contents in clusters.items():\n",
    "    # Concaténer le contenu de tous les articles du cluster\n",
    "    combined_content = \" \".join(contents)\n",
    "    \n",
    "    # Limiter la longueur du texte pour respecter les limites du modèle\n",
    "    max_input_length = 512  # Limite de tokens pour T5\n",
    "    if len(combined_content) > max_input_length:\n",
    "        combined_content = combined_content[:max_input_length]\n",
    "    \n",
    "    # Générer un résumé avec T5\n",
    "    summary = generate_summary_t5(combined_content, max_length=130, min_length=30)\n",
    "    cluster_summaries[cluster_id] = summary\n",
    "\n",
    "# Sauvegarder les résumés dans un fichier JSON\n",
    "output_file_path = 'cluster_summaries_t5.json'\n",
    "with open(output_file_path, 'w', encoding='utf-8') as file:\n",
    "    json.dump(cluster_summaries, file, ensure_ascii=False, indent=4)\n",
    "\n",
    "print(f\"Les résumés ont été enregistrés dans '{output_file_path}'.\")"
   ]
  },
  {
   "cell_type": "code",
   "execution_count": null,
   "id": "832f66aa-a646-4b7e-bb59-f2629c5434e9",
   "metadata": {},
   "outputs": [],
   "source": []
  }
 ],
 "metadata": {
  "kernelspec": {
   "display_name": "Python 3 (ipykernel)",
   "language": "python",
   "name": "python3"
  },
  "language_info": {
   "codemirror_mode": {
    "name": "ipython",
    "version": 3
   },
   "file_extension": ".py",
   "mimetype": "text/x-python",
   "name": "python",
   "nbconvert_exporter": "python",
   "pygments_lexer": "ipython3",
   "version": "3.11.7"
  }
 },
 "nbformat": 4,
 "nbformat_minor": 5
}
