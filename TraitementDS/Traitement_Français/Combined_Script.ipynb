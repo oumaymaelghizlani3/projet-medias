{
 "cells": [
  {
   "cell_type": "code",
   "execution_count": 4,
   "id": "eac313da-4a36-465a-885a-053a46bc0557",
   "metadata": {},
   "outputs": [
    {
     "name": "stdout",
     "output_type": "stream",
     "text": [
      "Fusion terminée avec succès. Résultat enregistré dans 'combined_db.json'.\n"
     ]
    }
   ],
   "source": [
    "import json\n",
    "from datetime import datetime\n",
    "import locale\n",
    "import re\n",
    "\n",
    "# Définir la locale en français pour interpréter les noms de mois/jours en français\n",
    "try:\n",
    "    locale.setlocale(locale.LC_TIME, \"fr_FR.UTF-8\")\n",
    "except locale.Error:\n",
    "    print(\"Locale 'fr_FR.UTF-8' non disponible, utilisation de la locale par défaut.\")\n",
    "\n",
    "# Fonction pour normaliser la date au format \"DD/MM/YYYY à HHhMM\" et supprimer \"Le \"\n",
    "def normalize_date(date_str):\n",
    "    if not date_str:  # Vérifier si la date est vide ou None\n",
    "        return \"\"\n",
    "\n",
    "    # Supprimer \"Le \" en début de chaîne s'il est présent\n",
    "    date_str = re.sub(r\"^Le\\s+\", \"\", date_str, flags=re.IGNORECASE)\n",
    "    \n",
    "    formats = [\n",
    "        \"%A %d %B %Y - %H:%M\",  # Exemple : dimanche 16 février 2025 - 20:34\n",
    "        \"%d/%m/%Y à %Hh%M\"       # Déjà au bon format\n",
    "    ]\n",
    "    \n",
    "    for fmt in formats:\n",
    "        try:\n",
    "            return datetime.strptime(date_str, fmt).strftime(\"%d/%m/%Y à %Hh%M\")\n",
    "        except ValueError:\n",
    "            continue\n",
    "    return date_str  # Retourne la date originale si aucun format ne correspond\n",
    "\n",
    "# Charger les fichiers JSON en gérant les erreurs\n",
    "def load_json(filename):\n",
    "    try:\n",
    "        with open(filename, \"r\", encoding=\"utf-8\") as f:\n",
    "            return json.load(f)\n",
    "    except (json.JSONDecodeError, FileNotFoundError) as e:\n",
    "        print(f\"Erreur lors de la lecture du fichier {filename}: {e}\")\n",
    "        return []\n",
    "\n",
    "data1 = load_json(\"hespress_db.json\")\n",
    "data2 = load_json(\"Le360_db.json\")\n",
    "\n",
    "# Liste pour stocker les articles combinés\n",
    "combined_data = []\n",
    "\n",
    "# Traitement des fichiers\n",
    "for dataset in [data1, data2]:\n",
    "    for item in dataset:\n",
    "        combined_data.append({\n",
    "            \"title\": item.get(\"title\", \"\"),\n",
    "            \"date\": normalize_date(item.get(\"date\", \"\")),\n",
    "            \"category\": item.get(\"category\", \"\"),\n",
    "            \"content\": item.get(\"content\", \"\")\n",
    "        })\n",
    "\n",
    "# Sauvegarde des données combinées dans un nouveau fichier JSON\n",
    "with open(\"combined_db.json\", \"w\", encoding=\"utf-8\") as f:\n",
    "    json.dump(combined_data, f, ensure_ascii=False, indent=4)\n",
    "\n",
    "print(\"Fusion terminée avec succès. Résultat enregistré dans 'combined_db.json'.\")\n"
   ]
  },
  {
   "cell_type": "code",
   "execution_count": null,
   "id": "046498a2-38ec-4383-a72e-8e8b72df3674",
   "metadata": {},
   "outputs": [],
   "source": []
  }
 ],
 "metadata": {
  "kernelspec": {
   "display_name": "Python 3 (ipykernel)",
   "language": "python",
   "name": "python3"
  },
  "language_info": {
   "codemirror_mode": {
    "name": "ipython",
    "version": 3
   },
   "file_extension": ".py",
   "mimetype": "text/x-python",
   "name": "python",
   "nbconvert_exporter": "python",
   "pygments_lexer": "ipython3",
   "version": "3.11.7"
  }
 },
 "nbformat": 4,
 "nbformat_minor": 5
}
