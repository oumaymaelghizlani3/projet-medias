{
 "cells": [
  {
   "cell_type": "code",
   "execution_count": 2,
   "id": "c2cb06ea-572f-4bf6-8e79-43c9cb7daa6a",
   "metadata": {},
   "outputs": [
    {
     "name": "stderr",
     "output_type": "stream",
     "text": [
      "/home/oumayma/anaconda3/lib/python3.11/site-packages/torch/cuda/__init__.py:129: UserWarning: CUDA initialization: The NVIDIA driver on your system is too old (found version 11040). Please update your GPU driver by downloading and installing a new version from the URL: http://www.nvidia.com/Download/index.aspx Alternatively, go to: https://pytorch.org to install a PyTorch version that has been compiled with your version of the CUDA driver. (Triggered internally at /pytorch/c10/cuda/CUDAFunctions.cpp:109.)\n",
      "  return torch._C._cuda_getDeviceCount() > 0\n",
      "Device set to use cpu\n"
     ]
    },
    {
     "name": "stdout",
     "output_type": "stream",
     "text": [
      "Les résumés ont été enregistrés dans 'cluster_summaries_bart.json'.\n"
     ]
    }
   ],
   "source": [
    "import json\n",
    "from transformers import pipeline\n",
    "\n",
    "# Charger les données clusterisées\n",
    "def load_clustered_data(file_path):\n",
    "    with open(file_path, 'r', encoding='utf-8') as file:\n",
    "        data = json.load(file)\n",
    "    return data\n",
    "\n",
    "# Chemin vers le fichier clusterisé\n",
    "clustered_file_path = 'clustered_articles2.json'\n",
    "clustered_data = load_clustered_data(clustered_file_path)\n",
    "\n",
    "# Regrouper les articles par cluster\n",
    "clusters = {}\n",
    "for article in clustered_data:\n",
    "    cluster_id = article['cluster']\n",
    "    if cluster_id not in clusters:\n",
    "        clusters[cluster_id] = []\n",
    "    clusters[cluster_id].append(article['content'])\n",
    "\n",
    "# Charger un modèle de génération de résumé (BART)\n",
    "try:\n",
    "    summarizer = pipeline(\"summarization\", model=\"facebook/bart-large-cnn\")\n",
    "except Exception as e:\n",
    "    print(f\"Erreur lors du chargement du modèle: {e}\")\n",
    "    summarizer = pipeline(\"summarization\", model=\"facebook/bart-large-cnn\", device=-1)  # Forcer l'utilisation du CPU\n",
    "\n",
    "# Générer un résumé pour chaque cluster\n",
    "cluster_summaries = {}\n",
    "for cluster_id, contents in clusters.items():\n",
    "    # Concaténer le contenu de tous les articles du cluster\n",
    "    combined_content = \" \".join(contents)\n",
    "    \n",
    "    # Générer un résumé (limité à 1024 tokens pour BART)\n",
    "    max_input_length = 1024\n",
    "    if len(combined_content) > max_input_length:\n",
    "        combined_content = combined_content[:max_input_length]\n",
    "    \n",
    "    try:\n",
    "        summary = summarizer(combined_content, max_length=130, min_length=30, do_sample=False)\n",
    "        cluster_summaries[cluster_id] = summary[0]['summary_text']\n",
    "    except Exception as e:\n",
    "        print(f\"Erreur lors de la génération du résumé pour le cluster {cluster_id}: {e}\")\n",
    "        cluster_summaries[cluster_id] = \"Résumé non disponible\"\n",
    "\n",
    "# Sauvegarder les résumés dans un fichier JSON\n",
    "output_file_path = 'cluster_summaries_bart.json'\n",
    "with open(output_file_path, 'w', encoding='utf-8') as file:\n",
    "    json.dump(cluster_summaries, file, ensure_ascii=False, indent=4)\n",
    "\n",
    "print(f\"Les résumés ont été enregistrés dans '{output_file_path}'.\")"
   ]
  },
  {
   "cell_type": "code",
   "execution_count": null,
   "id": "d33d1eda-d0b0-47cd-a098-3a23cbceb975",
   "metadata": {},
   "outputs": [],
   "source": []
  }
 ],
 "metadata": {
  "kernelspec": {
   "display_name": "Python 3 (ipykernel)",
   "language": "python",
   "name": "python3"
  },
  "language_info": {
   "codemirror_mode": {
    "name": "ipython",
    "version": 3
   },
   "file_extension": ".py",
   "mimetype": "text/x-python",
   "name": "python",
   "nbconvert_exporter": "python",
   "pygments_lexer": "ipython3",
   "version": "3.11.7"
  }
 },
 "nbformat": 4,
 "nbformat_minor": 5
}
