{
 "cells": [
  {
   "cell_type": "code",
   "execution_count": 1,
   "id": "91a79c4f-36ba-4441-b97a-ee0771058a26",
   "metadata": {},
   "outputs": [
    {
     "name": "stdout",
     "output_type": "stream",
     "text": [
      "Fusion terminée avec succès. Résultat enregistré dans 'combined.json'.\n"
     ]
    }
   ],
   "source": [
    "import json\n",
    "from datetime import datetime\n",
    "\n",
    "# Fonction pour normaliser la date au format \"DD/MM/YYYY à HHhMM\"\n",
    "def normalize_date(date_str):\n",
    "    formats = [\n",
    "        \"%A %d %B %Y - %H:%M\",  # Exemple : dimanche 16 février 2025 - 20:34\n",
    "        \"%d/%m/%Y à %Hh%M\"       # Exemple : 11/03/2025 à 13h52\n",
    "    ]\n",
    "    \n",
    "    for fmt in formats:\n",
    "        try:\n",
    "            return datetime.strptime(date_str, fmt).strftime(\"%d/%m/%Y à %Hh%M\")\n",
    "        except ValueError:\n",
    "            continue\n",
    "    return date_str  # Retourne la date originale si aucun format ne correspond\n",
    "\n",
    "# Charger les fichiers JSON\n",
    "with open(\"hespress_db.json\", \"r\", encoding=\"utf-8\") as f1, open(\"Le360_db.json\", \"r\", encoding=\"utf-8\") as f2:\n",
    "    data1 = json.load(f1)\n",
    "    data2 = json.load(f2)\n",
    "\n",
    "# Liste pour stocker les articles combinés\n",
    "combined_data = []\n",
    "\n",
    "# Traitement du premier fichier\n",
    "for item in data1:\n",
    "    combined_data.append({\n",
    "        \"title\": item.get(\"title\", \"\"),\n",
    "        \"date\": normalize_date(item.get(\"date\", \"\")),\n",
    "        \"category\": item.get(\"category\", \"\"),\n",
    "        \"content\": item.get(\"content\", \"\")\n",
    "    })\n",
    "\n",
    "# Traitement du second fichier\n",
    "for item in data2:\n",
    "    combined_data.append({\n",
    "        \"title\": item.get(\"title\", \"\"),\n",
    "        \"date\": normalize_date(item.get(\"date\", \"\")),\n",
    "        \"category\": item.get(\"category\", \"\"),\n",
    "        \"content\": item.get(\"content\", \"\")\n",
    "    })\n",
    "\n",
    "# Sauvegarde des données combinées dans un nouveau fichier JSON\n",
    "with open(\"combined_db.json\", \"w\", encoding=\"utf-8\") as f:\n",
    "    json.dump(combined_data, f, ensure_ascii=False, indent=4)\n",
    "\n",
    "print(\"Fusion terminée avec succès. Résultat enregistré dans 'combined.json'.\")\n"
   ]
  },
  {
   "cell_type": "code",
   "execution_count": null,
   "id": "268ab6d5-82fb-4d2a-9992-1605c5210fce",
   "metadata": {},
   "outputs": [],
   "source": []
  }
 ],
 "metadata": {
  "kernelspec": {
   "display_name": "Python 3 (ipykernel)",
   "language": "python",
   "name": "python3"
  },
  "language_info": {
   "codemirror_mode": {
    "name": "ipython",
    "version": 3
   },
   "file_extension": ".py",
   "mimetype": "text/x-python",
   "name": "python",
   "nbconvert_exporter": "python",
   "pygments_lexer": "ipython3",
   "version": "3.11.7"
  }
 },
 "nbformat": 4,
 "nbformat_minor": 5
}
